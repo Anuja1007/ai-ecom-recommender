{
 "cells": [
  {
   "cell_type": "code",
   "execution_count": 4,
   "id": "43c971d9-5ae8-4b78-a4f4-ee050793d8e9",
   "metadata": {},
   "outputs": [
    {
     "name": "stdout",
     "output_type": "stream",
     "text": [
      "Data loaded successfully!\n",
      "DataFrame Head:\n",
      "   user_id  item_id  rating  timestamp\n",
      "0      196      242       3  881250949\n",
      "1      186      302       3  891717742\n",
      "2       22      377       1  878887116\n",
      "3      244       51       2  880606923\n",
      "4      166      346       1  886397596\n",
      "\n",
      "DataFrame Info:\n",
      "<class 'pandas.core.frame.DataFrame'>\n",
      "RangeIndex: 100000 entries, 0 to 99999\n",
      "Data columns (total 4 columns):\n",
      " #   Column     Non-Null Count   Dtype\n",
      "---  ------     --------------   -----\n",
      " 0   user_id    100000 non-null  int64\n",
      " 1   item_id    100000 non-null  int64\n",
      " 2   rating     100000 non-null  int64\n",
      " 3   timestamp  100000 non-null  int64\n",
      "dtypes: int64(4)\n",
      "memory usage: 3.1 MB\n",
      "\n",
      "Unique Users: 943\n",
      "Unique Items: 1682\n"
     ]
    }
   ],
   "source": [
    "import pandas as pd\n",
    "\n",
    "column_names = ['user_id', 'item_id', 'rating', 'timestamp']\n",
    "# CORRECT PATH: 'data/u.data' (assuming jupyter is run from the root)\n",
    "# CORRECT SEPARATOR: '\\t' (tab character)\n",
    "df = pd.read_csv('../data/u.data', sep='\\t', names=column_names, encoding='latin-1')\n",
    "\n",
    "print(\"Data loaded successfully!\")\n",
    "print(\"DataFrame Head:\")\n",
    "print(df.head())\n",
    "print(\"\\nDataFrame Info:\")\n",
    "df.info()\n",
    "print(f\"\\nUnique Users: {df['user_id'].nunique()}\")\n",
    "print(f\"Unique Items: {df['item_id'].nunique()}\")"
   ]
  },
  {
   "cell_type": "code",
   "execution_count": 3,
   "id": "d76414d4-00d0-42ea-9f83-b3a199c15d3b",
   "metadata": {},
   "outputs": [
    {
     "name": "stdout",
     "output_type": "stream",
     "text": [
      "C:\\Users\\Win\\ai-ecom-recommender\\notebooks\n",
      "['.ipynb_checkpoints', '1.0_EDA_and_Modeling.ipynb']\n"
     ]
    }
   ],
   "source": [
    "import os\n",
    "print(os.getcwd())  # shows where Python is currently running\n",
    "print(os.listdir()) # shows all files/folders here\n"
   ]
  },
  {
   "cell_type": "code",
   "execution_count": 6,
   "id": "31cd3825-46c6-4777-afc9-45602aea9f70",
   "metadata": {},
   "outputs": [
    {
     "name": "stdout",
     "output_type": "stream",
     "text": [
      "\n",
      "Rating Distribution:\n",
      "rating\n",
      "1     6110\n",
      "2    11370\n",
      "3    27145\n",
      "4    34174\n",
      "5    21201\n",
      "Name: count, dtype: int64\n"
     ]
    },
    {
     "data": {
      "text/plain": [
       "<Axes: >"
      ]
     },
     "execution_count": 6,
     "metadata": {},
     "output_type": "execute_result"
    },
    {
     "data": {
      "image/png": "[encoded data removed]",
      "text/plain": [
       "<Figure size 640x480 with 1 Axes>"
      ]
     },
     "metadata": {},
     "output_type": "display_data"
    }
   ],
   "source": [
    "print(\"\\nRating Distribution:\")\n",
    "print(df['rating'].value_counts().sort_index())\n",
    "df['rating'].hist(bins=5) # Visualize the distribution (optional but recommended)"
   ]
  },
  {
   "cell_type": "code",
   "execution_count": 7,
   "id": "1b150180-eb5a-493f-8b72-a3314f59d200",
   "metadata": {},
   "outputs": [
    {
     "name": "stdout",
     "output_type": "stream",
     "text": [
      "   user_id  item_id  rating  timestamp                date\n",
      "0      196      242       3  881250949 1997-12-04 15:55:49\n",
      "1      186      302       3  891717742 1998-04-04 19:22:22\n",
      "2       22      377       1  878887116 1997-11-07 07:18:36\n",
      "3      244       51       2  880606923 1997-11-27 05:02:03\n",
      "4      166      346       1  886397596 1998-02-02 05:33:16\n"
     ]
    }
   ],
   "source": [
    "# Run only if 'timestamp' column exists\n",
    "df['date'] = pd.to_datetime(df['timestamp'], unit='s')\n",
    "print(df.head())"
   ]
  },
  {
   "cell_type": "code",
   "execution_count": null,
   "id": "5c25d437-e80a-4de1-804e-ce0343b85902",
   "metadata": {},
   "outputs": [],
   "source": []
  }
 ],
 "metadata": {
  "kernelspec": {
   "display_name": "Python 3 (ipykernel)",
   "language": "python",
   "name": "python3"
  },
  "language_info": {
   "codemirror_mode": {
    "name": "ipython",
    "version": 3
   },
   "file_extension": ".py",
   "mimetype": "text/x-python",
   "name": "python",
   "nbconvert_exporter": "python",
   "pygments_lexer": "ipython3",
   "version": "3.13.1"
  }
 },
 "nbformat": 4,
 "nbformat_minor": 5
}
