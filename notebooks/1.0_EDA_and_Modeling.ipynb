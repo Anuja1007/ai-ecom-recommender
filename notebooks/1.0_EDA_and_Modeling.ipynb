{
 "cells": [
  {
   "cell_type": "code",
   "execution_count": 2,
   "id": "43c971d9-5ae8-4b78-a4f4-ee050793d8e9",
   "metadata": {},
   "outputs": [
    {
     "name": "stdout",
     "output_type": "stream",
     "text": [
      "Data loaded successfully!\n",
      "DataFrame Head:\n",
      "   user_id  item_id  rating  timestamp\n",
      "0      196      242       3  881250949\n",
      "1      186      302       3  891717742\n",
      "2       22      377       1  878887116\n",
      "3      244       51       2  880606923\n",
      "4      166      346       1  886397596\n",
      "\n",
      "DataFrame Info:\n",
      "<class 'pandas.core.frame.DataFrame'>\n",
      "RangeIndex: 100000 entries, 0 to 99999\n",
      "Data columns (total 4 columns):\n",
      " #   Column     Non-Null Count   Dtype\n",
      "---  ------     --------------   -----\n",
      " 0   user_id    100000 non-null  int64\n",
      " 1   item_id    100000 non-null  int64\n",
      " 2   rating     100000 non-null  int64\n",
      " 3   timestamp  100000 non-null  int64\n",
      "dtypes: int64(4)\n",
      "memory usage: 3.1 MB\n",
      "\n",
      "Unique Users: 943\n",
      "Unique Items: 1682\n"
     ]
    }
   ],
   "source": [
    "import pandas as pd\n",
    "\n",
    "column_names = ['user_id', 'item_id', 'rating', 'timestamp']\n",
    "# CORRECT PATH: 'data/u.data' (assuming jupyter is run from the root)\n",
    "# CORRECT SEPARATOR: '\\t' (tab character)\n",
    "df = pd.read_csv('../data/u.data', sep='\\t', names=column_names, encoding='latin-1')\n",
    "\n",
    "print(\"Data loaded successfully!\")\n",
    "print(\"DataFrame Head:\")\n",
    "print(df.head())\n",
    "print(\"\\nDataFrame Info:\")\n",
    "df.info()\n",
    "print(f\"\\nUnique Users: {df['user_id'].nunique()}\")\n",
    "print(f\"Unique Items: {df['item_id'].nunique()}\")"
   ]
  },
  {
   "cell_type": "code",
   "execution_count": 3,
   "id": "d76414d4-00d0-42ea-9f83-b3a199c15d3b",
   "metadata": {},
   "outputs": [
    {
     "name": "stdout",
     "output_type": "stream",
     "text": [
      "C:\\Users\\Win\\ai-ecom-recommender\\notebooks\n",
      "['.ipynb_checkpoints', '1.0_EDA_and_Modeling.ipynb']\n"
     ]
    }
   ],
   "source": [
    "import os\n",
    "print(os.getcwd())  # shows where Python is currently running\n",
    "print(os.listdir()) # shows all files/folders here\n"
   ]
  },
  {
   "cell_type": "code",
   "execution_count": 4,
   "id": "31cd3825-46c6-4777-afc9-45602aea9f70",
   "metadata": {},
   "outputs": [
    {
     "name": "stdout",
     "output_type": "stream",
     "text": [
      "\n",
      "Rating Distribution:\n",
      "rating\n",
      "1     6110\n",
      "2    11370\n",
      "3    27145\n",
      "4    34174\n",
      "5    21201\n",
      "Name: count, dtype: int64\n"
     ]
    },
    {
     "data": {
      "text/plain": [
       "<Axes: >"
      ]
     },
     "execution_count": 4,
     "metadata": {},
     "output_type": "execute_result"
    },
    {
     "data": {
      "image/png": "[encoded data removed]",
      "text/plain": [
       "<Figure size 640x480 with 1 Axes>"
      ]
     },
     "metadata": {},
     "output_type": "display_data"
    }
   ],
   "source": [
    "print(\"\\nRating Distribution:\")\n",
    "print(df['rating'].value_counts().sort_index())\n",
    "df['rating'].hist(bins=5) # Visualize the distribution (optional but recommended)"
   ]
  },
  {
   "cell_type": "code",
   "execution_count": 5,
   "id": "1b150180-eb5a-493f-8b72-a3314f59d200",
   "metadata": {},
   "outputs": [
    {
     "name": "stdout",
     "output_type": "stream",
     "text": [
      "   user_id  item_id  rating  timestamp                date\n",
      "0      196      242       3  881250949 1997-12-04 15:55:49\n",
      "1      186      302       3  891717742 1998-04-04 19:22:22\n",
      "2       22      377       1  878887116 1997-11-07 07:18:36\n",
      "3      244       51       2  880606923 1997-11-27 05:02:03\n",
      "4      166      346       1  886397596 1998-02-02 05:33:16\n"
     ]
    }
   ],
   "source": [
    "# Run only if 'timestamp' column exists\n",
    "df['date'] = pd.to_datetime(df['timestamp'], unit='s')\n",
    "print(df.head())"
   ]
  },
  {
   "cell_type": "code",
   "execution_count": 6,
   "id": "5c25d437-e80a-4de1-804e-ce0343b85902",
   "metadata": {},
   "outputs": [
    {
     "name": "stdout",
     "output_type": "stream",
     "text": [
      "DataFrame reloaded successfully.\n"
     ]
    }
   ],
   "source": [
    "import pandas as pd\n",
    "\n",
    "column_names = ['user_id', 'item_id', 'rating', 'timestamp'] # Verify your column names here\n",
    "file_path = '../data/u.data' # Verify your file path here\n",
    "\n",
    "# Execute this cell first!\n",
    "df = pd.read_csv(file_path, sep='\\t', names=column_names, encoding='latin-1')\n",
    "\n",
    "print(\"DataFrame reloaded successfully.\")"
   ]
  },
  {
   "cell_type": "code",
   "execution_count": 7,
   "id": "17a2c739-7ce9-4582-8897-108d03b5f561",
   "metadata": {},
   "outputs": [],
   "source": [
    "df = df.drop(columns=['timestamp'])"
   ]
  },
  {
   "cell_type": "code",
   "execution_count": 8,
   "id": "28889b85-1f2f-4f8d-afb6-ad5982b109bd",
   "metadata": {},
   "outputs": [
    {
     "name": "stdout",
     "output_type": "stream",
     "text": [
      "\n",
      "Mapping complete. Sample Mapped Data:\n",
      "   user_id  user_mapped  item_id  item_mapped\n",
      "0      196            0      242            0\n",
      "1      186            1      302            1\n",
      "2       22            2      377            2\n",
      "3      244            3       51            3\n",
      "4      166            4      346            4\n"
     ]
    }
   ],
   "source": [
    "# Map User IDs\n",
    "user_map = {id: i for i, id in enumerate(df['user_id'].unique())}\n",
    "df['user_mapped'] = df['user_id'].map(user_map)\n",
    "\n",
    "# Map Item IDs\n",
    "item_map = {id: i for i, id in enumerate(df['item_id'].unique())}\n",
    "df['item_mapped'] = df['item_id'].map(item_map)\n",
    "\n",
    "# Print to verify the first few mapped IDs\n",
    "print(\"\\nMapping complete. Sample Mapped Data:\")\n",
    "print(df[['user_id', 'user_mapped', 'item_id', 'item_mapped']].head())"
   ]
  },
  {
   "cell_type": "code",
   "execution_count": 9,
   "id": "661ae1bb-15ae-477a-9e76-b4e137b751fe",
   "metadata": {},
   "outputs": [
    {
     "name": "stdout",
     "output_type": "stream",
     "text": [
      "Requirement already satisfied: scipy in c:\\users\\win\\ai-ecom-recommender\\venv\\lib\\site-packages (1.16.2)\n",
      "Requirement already satisfied: numpy<2.6,>=1.25.2 in c:\\users\\win\\ai-ecom-recommender\\venv\\lib\\site-packages (from scipy) (2.3.4)\n",
      "Note: you may need to restart the kernel to use updated packages.\n"
     ]
    }
   ],
   "source": [
    "pip install scipy"
   ]
  },
  {
   "cell_type": "code",
   "execution_count": 10,
   "id": "c867fd4d-9f90-4852-ac45-1ce893ef9994",
   "metadata": {},
   "outputs": [
    {
     "name": "stdout",
     "output_type": "stream",
     "text": [
      "\n",
      "User-Item Matrix Shape: (943, 1682)\n"
     ]
    }
   ],
   "source": [
    "from scipy.sparse import csr_matrix\n",
    "\n",
    "# Create the sparse matrix (Rows=Users, Columns=Items, Data=Ratings)\n",
    "user_item_matrix = csr_matrix((\n",
    "    df['rating'].values,\n",
    "    (df['user_mapped'].values, df['item_mapped'].values)\n",
    "))\n",
    "print(\"\\nUser-Item Matrix Shape:\", user_item_matrix.shape)"
   ]
  },
  {
   "cell_type": "code",
   "execution_count": 13,
   "id": "afb3544e-de1e-44c8-b6c9-af4f0ebcfc72",
   "metadata": {},
   "outputs": [
    {
     "name": "stdout",
     "output_type": "stream",
     "text": [
      "Starting KNN Model Training...\n",
      "KNN Model trained successfully!\n"
     ]
    }
   ],
   "source": [
    "# CODE TO TRAIN THE MODEL (for Day 2)\n",
    "\n",
    "from sklearn.neighbors import NearestNeighbors\n",
    "from scipy.sparse import csr_matrix # Ensure this is imported if you haven't yet\n",
    "# (Note: This assumes your user_item_matrix variable is correctly loaded/defined \n",
    "# in the cells above this one)\n",
    "\n",
    "print(\"Starting KNN Model Training...\")\n",
    "\n",
    "# 1. Define the model (using cosine similarity for distance calculation)\n",
    "model_knn = NearestNeighbors(metric='cosine', algorithm='brute')\n",
    "\n",
    "# 2. Train the model using the sparse user-item interaction matrix\n",
    "# WARNING: If your user_item_matrix is not defined, this cell will fail.\n",
    "model_knn.fit(user_item_matrix)\n",
    "\n",
    "print(\"KNN Model trained successfully!\")"
   ]
  },
  {
   "cell_type": "code",
   "execution_count": 14,
   "id": "b48d010f-613e-4436-b65d-ffba40c59e42",
   "metadata": {},
   "outputs": [
    {
     "name": "stdout",
     "output_type": "stream",
     "text": [
      "Model and mappings SUCCESSFULLY RESAVED with Protocol 4.\n"
     ]
    }
   ],
   "source": [
    "import pickle\n",
    "\n",
    "# Assuming SAVE_PATH is correctly defined as '../src/api/'\n",
    "SAVE_PATH = '../src/api/' \n",
    "\n",
    "# 1. Save the trained model using Protocol 4 \n",
    "with open(SAVE_PATH + 'knn_model.pkl', 'wb') as f:\n",
    "    pickle.dump(model_knn, f, protocol=4) # model_knn must be in memory\n",
    "\n",
    "# 2. Save the item mapping\n",
    "with open(SAVE_PATH + 'item_map.pkl', 'wb') as f:\n",
    "    pickle.dump(item_map, f, protocol=4)\n",
    "\n",
    "# 3. Save the user mapping\n",
    "with open(SAVE_PATH + 'user_map.pkl', 'wb') as f:\n",
    "    pickle.dump(user_map, f, protocol=4)\n",
    "\n",
    "print(\"Model and mappings SUCCESSFULLY RESAVED with Protocol 4.\")"
   ]
  },
  {
   "cell_type": "code",
   "execution_count": 11,
   "id": "62d086b7-fd43-403e-8d45-8245a359cd4e",
   "metadata": {},
   "outputs": [
    {
     "name": "stdout",
     "output_type": "stream",
     "text": [
      "Requirement already satisfied: scikit-learn in c:\\users\\win\\ai-ecom-recommender\\venv\\lib\\site-packages (1.7.2)\n",
      "Requirement already satisfied: numpy>=1.22.0 in c:\\users\\win\\ai-ecom-recommender\\venv\\lib\\site-packages (from scikit-learn) (2.3.4)\n",
      "Requirement already satisfied: scipy>=1.8.0 in c:\\users\\win\\ai-ecom-recommender\\venv\\lib\\site-packages (from scikit-learn) (1.16.2)\n",
      "Requirement already satisfied: joblib>=1.2.0 in c:\\users\\win\\ai-ecom-recommender\\venv\\lib\\site-packages (from scikit-learn) (1.5.2)\n",
      "Requirement already satisfied: threadpoolctl>=3.1.0 in c:\\users\\win\\ai-ecom-recommender\\venv\\lib\\site-packages (from scikit-learn) (3.6.0)\n",
      "Note: you may need to restart the kernel to use updated packages.\n"
     ]
    }
   ],
   "source": [
    "pip install scikit-learn"
   ]
  },
  {
   "cell_type": "code",
   "execution_count": null,
   "id": "3bfaf39b-a305-4615-8b7d-8f7adf1ee1d2",
   "metadata": {},
   "outputs": [],
   "source": []
  }
 ],
 "metadata": {
  "kernelspec": {
   "display_name": "Python 3 (ipykernel)",
   "language": "python",
   "name": "python3"
  },
  "language_info": {
   "codemirror_mode": {
    "name": "ipython",
    "version": 3
   },
   "file_extension": ".py",
   "mimetype": "text/x-python",
   "name": "python",
   "nbconvert_exporter": "python",
   "pygments_lexer": "ipython3",
   "version": "3.11.9"
  }
 },
 "nbformat": 4,
 "nbformat_minor": 5
}
